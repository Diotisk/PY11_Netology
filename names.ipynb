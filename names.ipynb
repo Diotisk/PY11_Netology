{
 "cells": [
  {
   "cell_type": "code",
   "execution_count": 1,
   "metadata": {
    "collapsed": true
   },
   "outputs": [],
   "source": [
    "import pandas as pd\n",
    "import os\n",
    "from functools import reduce"
   ]
  },
  {
   "cell_type": "code",
   "execution_count": 2,
   "metadata": {
    "collapsed": true
   },
   "outputs": [],
   "source": [
    "files = os.listdir(\"/Users/daraeremina/Downloads/names\")\n",
    "path_names = []\n",
    "for file in files:\n",
    "    path_name = os.path.join(\"/Users/daraeremina/Downloads/names\", file)\n",
    "    if path_name.endswith(\".txt\"):\n",
    "        path_names.append(path_name)"
   ]
  },
  {
   "cell_type": "code",
   "execution_count": 3,
   "metadata": {
    "collapsed": true
   },
   "outputs": [],
   "source": [
    "names_df = []\n",
    "for path_name in path_names:\n",
    "    names_df.append(\n",
    "        pd.read_csv(\n",
    "            path_name, names=[\"Name\", \"Gender\", (os.path.basename(path_name)[3:7])]\n",
    "        )\n",
    "    )"
   ]
  },
  {
   "cell_type": "code",
   "execution_count": 4,
   "metadata": {
    "collapsed": true
   },
   "outputs": [],
   "source": [
    "all_names_df = reduce(lambda x, y: pd.merge(x, y, on=[\"Name\", \"Gender\"]), names_df)"
   ]
  },
  {
   "cell_type": "code",
   "execution_count": 5,
   "metadata": {},
   "outputs": [
    {
     "data": {
      "text/plain": [
       "['James', 'John', 'Robert']"
      ]
     },
     "execution_count": 5,
     "metadata": {},
     "output_type": "execute_result"
    }
   ],
   "source": [
    "def get_top3(*yob):\n",
    "    \"\"\"\n",
    "    :param yob: should be a list of required years in string format\n",
    "    :return: a list of top3 popular names\n",
    "    \"\"\"\n",
    "    required_yobs_df = all_names_df.filter([\"Name\", *yob], axis=1)\n",
    "    required_yobs_df.head(10)\n",
    "    required_yobs_df[\"Sum_value\"] = required_yobs_df.sum(axis=1)\n",
    "    top3 = required_yobs_df.sort_values(by=\"Sum_value\", ascending=False)[:3]\n",
    "    return list(top3[\"Name\"])\n",
    "get_top3(*[\"1900\", \"1950\", \"2000\"])"
   ]
  },
  {
   "cell_type": "code",
   "execution_count": 6,
   "metadata": {},
   "outputs": [
    {
     "data": {
      "text/plain": [
       "({'F': [258055, 949755, 503947]}, {'M': [137688, 1456878, 974821]})"
      ]
     },
     "execution_count": 6,
     "metadata": {},
     "output_type": "execute_result"
    }
   ],
   "source": [
    "def get_gender_stat(yob_list):\n",
    "    female_df = all_names_df[all_names_df[\"Gender\"] == \"F\"]\n",
    "    female_stat = dict()\n",
    "    male_df = all_names_df[all_names_df[\"Gender\"] == \"M\"]\n",
    "    male_stat = dict()\n",
    "\n",
    "    def get_sum_by_yob(df, years_list):\n",
    "        values_list = []\n",
    "        for year in years_list:\n",
    "            year_sum_value = df[year].sum()\n",
    "            values_list.append(year_sum_value)\n",
    "        return values_list\n",
    "\n",
    "    female_stat[\"F\"] = get_sum_by_yob(female_df, yob_list)\n",
    "    male_stat[\"M\"] = get_sum_by_yob(male_df, yob_list)\n",
    "    return female_stat, male_stat\n",
    "\n",
    "get_gender_stat([\"1900\", \"1950\", \"2000\"])"
   ]
  },
  {
   "cell_type": "code",
   "execution_count": null,
   "metadata": {},
   "outputs": [],
   "source": [
    ""
   ]
  }
 ],
 "metadata": {
  "kernelspec": {
   "display_name": "Python 2",
   "language": "python",
   "name": "python2"
  },
  "language_info": {
   "codemirror_mode": {
    "name": "ipython",
    "version": 2.0
   },
   "file_extension": ".py",
   "mimetype": "text/x-python",
   "name": "python",
   "nbconvert_exporter": "python",
   "pygments_lexer": "ipython2",
   "version": "2.7.6"
  }
 },
 "nbformat": 4,
 "nbformat_minor": 0
}